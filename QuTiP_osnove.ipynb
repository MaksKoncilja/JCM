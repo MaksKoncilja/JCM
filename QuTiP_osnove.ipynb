{
 "cells": [
  {
   "cell_type": "code",
   "execution_count": null,
   "id": "05c018c3",
   "metadata": {},
   "outputs": [],
   "source": [
    "import matplotlib.pyplot as plt\n",
    "import numpy as np\n",
    "from qutip import about, basis, destroy, mesolve, qeye, sigmaz, tensor\n",
    "%matplotlib inline\n",
    "#iterakcija svetloba-snov Jaynes Cumming model. Posamezni dvonivojski atom iteragira z elektomagnetnim resonatorjem.\n",
    "#mater enačbe rešuje mesolve\n",
    "# H = \\hbar \\omega_{c} a^{\\dagger} a + \\frac{1}{2} \\hbar \\omega_{a} \\sigma_{z} + \\hbar g (a^{\\dagger} + a)(\\sigma_{-} + \\sigma_{-})\n",
    "#RWA -> H_{RWA} = \\hbar \\omega_{c} a^{\\dagger} a + \\frac{1}{2} \\hbar \\omega_{a} \\sigma_{z} + \\hbar g ( a^{\\dagger} \\sigma_{-} + a \\sigma_{+})\n",
    "\n",
    "N = 15  # number of cavity fock states\n",
    "wc = 1.0 * 2 * np.pi  # cavity frequency\n",
    "wa = 1.0 * 2 * np.pi  # atom frequency\n",
    "g = 0.05 * 2 * np.pi  # coupling strength\n",
    "kappa = 0.005  # cavity dissipation rate C_{1} = \\sqrt{\\kappa (1 + \\langle n \\rangle)} a , C_{2} = \\sqrt{\\kappa \\langle n \\rangle} a^{\\dagger}\n",
    "gamma = 0.05  # atom dissipation rate C_{3} = \\sqrt{\\gamma} \\sigma_{-}\n",
    "n_th_a = 0.0  # temperature in frequency units, \\langle n \\rangle = 0 nimamo kreacije fotonov, le anhilacijo pri tako izbranem stanju (vakumskem) \n",
    "use_rwa = True\n",
    "\n",
    "tlist = np.linspace(0, 40, 500)\n",
    "\n",
    "#setup operatorjev | stanje je tenzorski produkt cavty atom | cavity v osnovne stanju in atom v vzbujenem\n",
    "psi0  = tensor(basis(N, 0), basis(2, 0))\n",
    "# opeartorji kolapsa\n",
    "a = tensor(destroy(N), qeye(2))\n",
    "sm = tensor(qeye(N), destroy(2).dag()) #drugi del generira z destroy(2) sigma_{+}, ki ga z \\dagger spravimo v anhilacijski operator\n",
    "sz = tensor(qeye(N), sigmaz())\n",
    "\n",
    "H = wc * a.dag() * a + 0.5 * wa * sz + g * (a.dag() + a) * (sm + sm.dag())\n",
    "H_rwa = wc * a.dag() * a + 0.5 * wa * sz + g * (a.dag() * sm + a * sm.dag())\n",
    "\n",
    "#za opis disipacije dodamo operatorje kolapsa \n",
    "c_operator_list = []\n",
    "c_operator_list.append(np.sqrt(gamma) * sm) #anhilacija atoma \n",
    "c_operator_list.append(np.sqrt(kappa * ( 1 + n_th_a)) * a) # anhilacija fotona \n",
    "c_operator_list.append(np.sqrt(kappa * n_th_a) * a) #kreacija atoma\n",
    "\n",
    "#razvoj sistema z disipacijo \n",
    "output = mesolve(H, psi0, tlist, c_operator_list, [a.dag() * a, sm.dag() * sm]) #razvijemo z Lindbladovo master enačbo in zahtevamo pričakovnae vrednosti a.dag a (cavity) in \\sigma_{+} \\sigma_{-} (atom)\n",
    "\n",
    "\"\"\"\n",
    "fig, ax = plt.subplots(figsize=(8, 5))\n",
    "ax.plot(tlist, output.expect[0], label=\"Cavity\")\n",
    "ax.plot(tlist, output.expect[1], label=\"Atom excited state\")\n",
    "ax.legend()\n",
    "ax.set_xlabel(\"Time\")\n",
    "ax.set_ylabel(\"Occupation probability\")\n",
    "ax.set_title(\"Vacuum Rabi oscillations at T={}\".format(n_th_a));\n",
    "\"\"\""
   ]
  }
 ],
 "metadata": {
  "kernelspec": {
   "display_name": "JCM_env",
   "language": "python",
   "name": "python3"
  },
  "language_info": {
   "codemirror_mode": {
    "name": "ipython",
    "version": 3
   },
   "file_extension": ".py",
   "mimetype": "text/x-python",
   "name": "python",
   "nbconvert_exporter": "python",
   "pygments_lexer": "ipython3",
   "version": "3.12.11"
  }
 },
 "nbformat": 4,
 "nbformat_minor": 5
}
